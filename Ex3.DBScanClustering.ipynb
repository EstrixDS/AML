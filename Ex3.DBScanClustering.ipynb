{
 "cells": [
  {
   "cell_type": "markdown",
   "metadata": {},
   "source": [
    "<img src=\"https://www.th-koeln.de/img/logo.svg\" style=\"float:right;\" width=\"200\">"
   ]
  },
  {
   "attachments": {},
   "cell_type": "markdown",
   "metadata": {},
   "source": [
    "# 3rd exercise: <font color=\"#C70039\">Do DBScan clustering for anomaly detection</font>\n",
    "* Course: AML\n",
    "* Lecturer: <a href=\"https://www.gernotheisenberg.de/\">Gernot Heisenberg</a>\n",
    "* Author of notebook: <a href=\"https://www.gernotheisenberg.de/\">Gernot Heisenberg</a>\n",
    "* Date:   02.11.2022\n",
    "* Name: Tobias Esser\n",
    "* matriculation number: 11134729\n",
    "\n",
    "<img src=\"https://upload.wikimedia.org/wikipedia/commons/thumb/a/af/DBSCAN-Illustration.svg/400px-DBSCAN-Illustration.svg.png\" style=\"float: center;\" width=\"450\">\n",
    "\n",
    "---------------------------------\n",
    "**GENERAL NOTE 1**: \n",
    "Please make sure you are reading the entire notebook, since it contains a lot of information on your tasks (e.g. regarding the set of certain paramaters or a specific computational trick), and the written mark downs as well as comments contain a lot of information on how things work together as a whole. \n",
    "\n",
    "**GENERAL NOTE 2**: \n",
    "* Please, when commenting source code, just use English language only. \n",
    "* When describing an observation please use English language, too\n",
    "* This applies to all exercises throughout this course.  \n",
    "\n",
    "---------------------\n",
    "\n",
    "### <font color=\"ce33ff\">DESCRIPTION</font>:\n",
    "This notebook allows you for using the DBScan clustering algorithm for anomaly detection.\n",
    "\n",
    "-------------------------------------------------------------------------------------------------------------\n",
    "\n",
    "### <font color=\"FFC300\">TASKS</font>:\n",
    "The tasks that you need to work on within this notebook are always indicated below as bullet points. \n",
    "If a task is more challenging and consists of several steps, this is indicated as well. \n",
    "Make sure you have worked down the task list and commented your doings. \n",
    "This should be done by using markdown.<br> \n",
    "<font color=red>Make sure you don't forget to specify your name and your matriculation number in the notebook.</font>\n",
    "\n",
    "**YOUR TASKS in this exercise are as follows**:\n",
    "1. import the notebook to Google Colab or use your local machine.\n",
    "2. make sure you specified you name and your matriculation number in the header below my name and date. \n",
    "    * set the date too and remove mine.\n",
    "3. read the entire notebook carefully \n",
    "    * add comments whereever you feel it necessary for better understanding\n",
    "    * run the notebook for the first time. \n",
    "4. take the three data sets from exercize 1 and cluster them\n",
    "5. read the following <a href=\"https://stats.stackexchange.com/questions/88872/a-routine-to-choose-eps-and-minpts-for-dbscan\">article</a> for getting help estimating eps and minPts\n",
    "    * https://stats.stackexchange.com/questions/88872/a-routine-to-choose-eps-and-minpts-for-dbscan\n",
    "6. describe your findings and interpret the results\n",
    "-----------------------------------------------------------------------------------"
   ]
  },
  {
   "cell_type": "code",
   "execution_count": 6,
   "metadata": {},
   "outputs": [],
   "source": [
    "from sklearn.cluster import DBSCAN\n",
    "import numpy as np\n",
    "from numpy.random import randn\n",
    "np.random.seed(1)\n",
    "random_data = np.random.randn(50000,2)  * 20 + 20"
   ]
  },
  {
   "cell_type": "markdown",
   "metadata": {},
   "source": [
    "The output of the below code is 94. This is the total number of noisy points. SKLearn labels the noisy points as (-1). The downside with this method is that the higher the dimension, the less accurate it becomes. You also need to make a few assumptions like estimating the right value for eps which can be challenging."
   ]
  },
  {
   "cell_type": "code",
   "execution_count": 7,
   "metadata": {},
   "outputs": [
    {
     "data": {
      "text/plain": [
       "94"
      ]
     },
     "execution_count": 7,
     "metadata": {},
     "output_type": "execute_result"
    }
   ],
   "source": [
    "# hyperparameters\n",
    "minPts = 2\n",
    "eps = 3\n",
    "\n",
    "outlier_detection = DBSCAN(min_samples = minPts, eps = eps)\n",
    "\n",
    "clusters = outlier_detection.fit_predict(random_data)\n",
    "\n",
    "list(clusters).count(-1)"
   ]
  },
  {
   "attachments": {},
   "cell_type": "markdown",
   "id": "3fdb6ec6",
   "metadata": {},
   "source": [
    "## Loans income"
   ]
  },
  {
   "cell_type": "code",
   "execution_count": 8,
   "id": "4a876bcc",
   "metadata": {},
   "outputs": [],
   "source": [
    "import pandas as pd"
   ]
  },
  {
   "cell_type": "code",
   "execution_count": 9,
   "metadata": {},
   "outputs": [],
   "source": [
    "df1 = pd.read_csv('data/loans_income.csv')\n",
    "data1 = df1['x'].to_numpy().reshape(-1, 1)"
   ]
  },
  {
   "attachments": {},
   "cell_type": "markdown",
   "id": "9fa3f383",
   "metadata": {},
   "source": [
    "This <a href=\"https://www.section.io/engineering-education/dbscan-clustering-in-python/\">article</a> also talks about using KNN (K-Nearest Neighbors) to calculate the EPS-value, therefore i use their code to create the graph and read the eps value .\n",
    "To determine the best epsilon value, we calculate the average distance between each point and its closest/nearest neighbors. We then plot a k-distance and choose the epsilon value at the “elbow” of the graph. On the y-axis, we plot the average distances and the x-axis all the data points in your dataset."
   ]
  },
  {
   "cell_type": "code",
   "execution_count": 17,
   "id": "4d2bd485",
   "metadata": {},
   "outputs": [
    {
     "data": {
      "image/png": "[encoded data removed]",
      "text/plain": [
       "<Figure size 500x300 with 1 Axes>"
      ]
     },
     "metadata": {},
     "output_type": "display_data"
    }
   ],
   "source": [
    "from sklearn.neighbors import NearestNeighbors # importing the library\n",
    "import matplotlib.pyplot as plt\n",
    "neighb = NearestNeighbors(n_neighbors=2) # creating an object of the NearestNeighbors class\n",
    "nbrs=neighb.fit(data1) # fitting the data to the object\n",
    "distances,indices=nbrs.kneighbors(data1) # finding the nearest neighbours\n",
    "# Sort and plot the distances results\n",
    "distances = np.sort(distances, axis = 0) # sorting the distances\n",
    "distances = distances[:, 1] # taking the second column of the sorted distances\n",
    "plt.rcParams['figure.figsize'] = (5,3) # setting the figure size\n",
    "plt.plot(distances) # plotting the distances\n",
    "plt.show() # showing the plot"
   ]
  },
  {
   "cell_type": "markdown",
   "id": "23b0d0db",
   "metadata": {},
   "source": [
    "As the plot does not show us any information about the min of epsilon, we take the minimum amount, which is 1."
   ]
  },
  {
   "cell_type": "code",
   "execution_count": 18,
   "id": "fa90f7d7",
   "metadata": {},
   "outputs": [
    {
     "data": {
      "text/plain": [
       "5323"
      ]
     },
     "execution_count": 18,
     "metadata": {},
     "output_type": "execute_result"
    }
   ],
   "source": [
    "# hyperparameters\n",
    "minPts = 4\n",
    "eps = 1\n",
    "\n",
    "outlier_detection = DBSCAN(min_samples = minPts, eps = eps)\n",
    "\n",
    "clusters = outlier_detection.fit_predict(data1)\n",
    "\n",
    "list(clusters).count(-1)"
   ]
  },
  {
   "attachments": {},
   "cell_type": "markdown",
   "id": "5427e8c6",
   "metadata": {},
   "source": [
    "The amount of clusters are high."
   ]
  },
  {
   "attachments": {},
   "cell_type": "markdown",
   "id": "453e8442",
   "metadata": {},
   "source": [
    "## SOCR Height Weight"
   ]
  },
  {
   "cell_type": "code",
   "execution_count": 40,
   "id": "1ff04821",
   "metadata": {},
   "outputs": [],
   "source": [
    "df2 = pd.read_csv('data/SOCR-HeightWeight.csv')\n",
    "data2 = df2['Height(Inches)'].to_numpy().reshape(-1, 1)"
   ]
  },
  {
   "cell_type": "code",
   "execution_count": 41,
   "id": "28c72c9d",
   "metadata": {},
   "outputs": [
    {
     "name": "stdout",
     "output_type": "stream",
     "text": [
      "(25000, 1)\n"
     ]
    }
   ],
   "source": [
    "print(data2.shape)"
   ]
  },
  {
   "cell_type": "code",
   "execution_count": 42,
   "id": "84b61471",
   "metadata": {},
   "outputs": [
    {
     "data": {
      "image/png": "[encoded data removed]",
      "text/plain": [
       "<Figure size 500x300 with 1 Axes>"
      ]
     },
     "metadata": {},
     "output_type": "display_data"
    }
   ],
   "source": [
    "from sklearn.neighbors import NearestNeighbors # importing the library\n",
    "import matplotlib.pyplot as plt\n",
    "neighb = NearestNeighbors(n_neighbors=2) # creating an object of the NearestNeighbors class\n",
    "nbrs=neighb.fit(data2) # fitting the data to the object\n",
    "distances,indices=nbrs.kneighbors(data2) # finding the nearest neighbours\n",
    "# Sort and plot the distances results\n",
    "distances = np.sort(distances, axis = 0) # sorting the distances\n",
    "distances = distances[:, 1] # taking the second column of the sorted distances\n",
    "plt.rcParams['figure.figsize'] = (5,3) # setting the figure size\n",
    "plt.plot(distances) # plotting the distances\n",
    "plt.show() # showing the plot"
   ]
  },
  {
   "cell_type": "markdown",
   "id": "da6863f2",
   "metadata": {},
   "source": [
    "As the plot does not show us any information about the min of epsilon, we take the minimum amount, which is 1."
   ]
  },
  {
   "cell_type": "code",
   "execution_count": 43,
   "id": "f1ae9af3",
   "metadata": {},
   "outputs": [
    {
     "data": {
      "text/plain": [
       "0"
      ]
     },
     "execution_count": 43,
     "metadata": {},
     "output_type": "execute_result"
    }
   ],
   "source": [
    "# hyperparameters\n",
    "minPts = 4\n",
    "eps = 1\n",
    "\n",
    "outlier_detection = DBSCAN(min_samples = minPts, eps = eps)\n",
    "\n",
    "clusters = outlier_detection.fit_predict(data2)\n",
    "\n",
    "list(clusters).count(-1)"
   ]
  },
  {
   "cell_type": "markdown",
   "id": "3a4115e4",
   "metadata": {},
   "source": [
    "the data has 0 clusters, which can't be true, therefore we look at the data first:"
   ]
  },
  {
   "cell_type": "code",
   "execution_count": 31,
   "id": "0f66c3c7",
   "metadata": {},
   "outputs": [
    {
     "data": {
      "image/png": "[encoded data removed]",
      "text/plain": [
       "<Figure size 500x300 with 1 Axes>"
      ]
     },
     "metadata": {},
     "output_type": "display_data"
    }
   ],
   "source": [
    "import seaborn as sns\n",
    "sns.histplot(data=df2,x='Height(Inches)',legend=False)\n",
    "plt.show()"
   ]
  },
  {
   "cell_type": "code",
   "execution_count": 44,
   "id": "87efef2f",
   "metadata": {},
   "outputs": [
    {
     "name": "stdout",
     "output_type": "stream",
     "text": [
      "[[65.78331]\n",
      " [71.51521]\n",
      " [69.39874]\n",
      " ...\n",
      " [64.69855]\n",
      " [67.52918]\n",
      " [68.87761]]\n"
     ]
    }
   ],
   "source": [
    "print(data2)"
   ]
  },
  {
   "cell_type": "code",
   "execution_count": 51,
   "id": "20881ed8",
   "metadata": {},
   "outputs": [],
   "source": [
    "sorted_data2 = sorted(df2['Height(Inches)'].to_list())"
   ]
  },
  {
   "cell_type": "code",
   "execution_count": 53,
   "id": "3d51542d",
   "metadata": {},
   "outputs": [
    {
     "data": {
      "image/png": "[encoded data removed]",
      "text/plain": [
       "<Figure size 500x300 with 1 Axes>"
      ]
     },
     "metadata": {},
     "output_type": "display_data"
    }
   ],
   "source": [
    "sns.scatterplot(sorted_data2)\n",
    "plt.show()"
   ]
  },
  {
   "cell_type": "markdown",
   "id": "86ef0b84",
   "metadata": {},
   "source": [
    "Since the data is completely fluent (meaning it has no outliers), the algorithm does not find any clusters."
   ]
  },
  {
   "attachments": {},
   "cell_type": "markdown",
   "id": "7e3f2775",
   "metadata": {},
   "source": [
    "## Student female height"
   ]
  },
  {
   "cell_type": "code",
   "execution_count": 63,
   "id": "487e2d4a",
   "metadata": {},
   "outputs": [
    {
     "name": "stdout",
     "output_type": "stream",
     "text": [
      "(4110, 1)\n"
     ]
    }
   ],
   "source": [
    "df3 = pd.read_csv(\"https://userpage.fu-berlin.de/soga/200/2010_data_sets/students.csv\")\n",
    "data3 = df3[df3['gender'] == 'Female'][\"height\"].to_numpy().reshape(-1, 1)\n",
    "print(data3.shape)"
   ]
  },
  {
   "cell_type": "code",
   "execution_count": 64,
   "id": "a062b831",
   "metadata": {},
   "outputs": [
    {
     "data": {
      "image/png": "[encoded data removed]",
      "text/plain": [
       "<Figure size 500x300 with 1 Axes>"
      ]
     },
     "metadata": {},
     "output_type": "display_data"
    }
   ],
   "source": [
    "from sklearn.neighbors import NearestNeighbors # importing the library\n",
    "import matplotlib.pyplot as plt\n",
    "neighb = NearestNeighbors(n_neighbors=2) # creating an object of the NearestNeighbors class\n",
    "nbrs=neighb.fit(data3) # fitting the data to the object\n",
    "distances,indices=nbrs.kneighbors(data3) # finding the nearest neighbours\n",
    "# Sort and plot the distances results\n",
    "distances = np.sort(distances, axis = 0) # sorting the distances\n",
    "distances = distances[:, 1] # taking the second column of the sorted distances\n",
    "plt.rcParams['figure.figsize'] = (5,3) # setting the figure size\n",
    "plt.plot(distances) # plotting the distances\n",
    "plt.show() # showing the plot"
   ]
  },
  {
   "cell_type": "code",
   "execution_count": 70,
   "id": "3238d9f9",
   "metadata": {},
   "outputs": [
    {
     "data": {
      "text/plain": [
       "3"
      ]
     },
     "execution_count": 70,
     "metadata": {},
     "output_type": "execute_result"
    }
   ],
   "source": [
    "# hyperparameters\n",
    "minPts = 4\n",
    "eps = 1\n",
    "\n",
    "outlier_detection = DBSCAN(min_samples = minPts, eps = eps)\n",
    "\n",
    "clusters = outlier_detection.fit_predict(data3)\n",
    "\n",
    "list(clusters).count(-1)"
   ]
  },
  {
   "cell_type": "code",
   "execution_count": 72,
   "id": "f86211f0",
   "metadata": {},
   "outputs": [
    {
     "data": {
      "text/plain": [
       "<AxesSubplot: >"
      ]
     },
     "execution_count": 72,
     "metadata": {},
     "output_type": "execute_result"
    },
    {
     "data": {
      "image/png": "[encoded data removed]",
      "text/plain": [
       "<Figure size 500x300 with 1 Axes>"
      ]
     },
     "metadata": {},
     "output_type": "display_data"
    }
   ],
   "source": [
    "sorted_data3 = sorted(df3[df3['gender'] == 'Female'][\"height\"].to_list())\n",
    "sns.scatterplot(sorted_data3)"
   ]
  }
 ],
 "metadata": {
  "kernelspec": {
   "display_name": "Python 3.10.9 ('AML-lw2lCUyh')",
   "language": "python",
   "name": "python3"
  },
  "language_info": {
   "codemirror_mode": {
    "name": "ipython",
    "version": 3
   },
   "file_extension": ".py",
   "mimetype": "text/x-python",
   "name": "python",
   "nbconvert_exporter": "python",
   "pygments_lexer": "ipython3",
   "version": "3.10.9"
  },
  "vscode": {
   "interpreter": {
    "hash": "90402e097d14f7588878a68f5d841a9ea3f2d2a9015e2d8e8af8fd00246cce41"
   }
  }
 },
 "nbformat": 4,
 "nbformat_minor": 5
}
